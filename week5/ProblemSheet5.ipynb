{
 "cells": [
  {
   "cell_type": "markdown",
   "metadata": {},
   "source": [
    "# Problem Sheet 5\n",
    "- To be completed by **4pm** on **Friday 8th March** and uploaded to [Problem Sheet 5 submission point](https://moodle.bath.ac.uk/mod/assign/view.php?id=1205934) on Moodle."
   ]
  },
  {
   "cell_type": "markdown",
   "metadata": {},
   "source": [
    "## Task (a) (Warm-up): sequential optimisation for eigenvalues\n",
    "Given a symmetric matrix $A=A^\\top \\in \\mathbb{R}^{n \\times n}$ and suppose the first eigenvalue $\\lambda_{\\max}(A)=\\lambda_1(A)$ and eigenvector $\\mathbf{u}_{\\max}\\in\\mathbb{R}^n$, $\\|\\mathbf{u}_{\\max}\\|_2=1$ are known.\n",
    "\n",
    "- Prove that the second eigenvalue $\\lambda_2(A) \\le \\lambda_1(A)$ can be found as\n",
    "$$\n",
    "\\lambda_2(A) = \\max_{\\mathbf{x} \\in \\mathbb{R}^n, \\|\\mathbf{x}\\|_2=1, \\langle \\mathbf{u}_{\\max}, \\mathbf{x} \\rangle = 0}\\langle \\mathbf{x}, A \\mathbf{x} \\rangle,\n",
    "$$\n",
    "and a maximizer \n",
    "$$\n",
    "\\mathbf{x}_* = \\arg\\max_{\\mathbf{x} \\in \\mathbb{R}^n, \\|\\mathbf{x}\\|_2=1, \\langle \\mathbf{u}_{\\max}, \\mathbf{x} \\rangle = 0}\\langle \\mathbf{x}, A \\mathbf{x} \\rangle\n",
    "$$\n",
    "is the corresponding eigenvector.\n",
    "\n",
    "- Suggest how to implement the constraints $\\|\\mathbf{x}\\|_2=1, \\langle \\mathbf{u}_{\\max}, \\mathbf{x} \\rangle = 0$ in practice."
   ]
  },
  {
   "cell_type": "markdown",
   "metadata": {},
   "source": [
    "## Task (b): Principal Component Analysis\n",
    "Consider a dataset $\\mathbf{X} = \\{\\mathbf{x}_1, \\mathbf{x}_2\\}$, where\n",
    "$$\n",
    "\\mathbf{x}_1 = \\begin{bmatrix}2 \\\\ 1\\end{bmatrix}, \\qquad \\mathbf{x}_2 = \\begin{bmatrix}1 \\\\ 2\\end{bmatrix}.\n",
    "$$\n",
    "- Calculate the PCA matrix $A = \\frac{1}{m}\\sum_{i=1}^{m} \\mathbf{x}_i \\mathbf{x}_i^\\top$.\n",
    "- Calculate the principal component for $r=1$, that is, a vector $\\mathbf{u}\\in\\mathbb{R}^2$, $\\|\\mathbf{u}\\|_2=1$, corresponding to the maximal eigenvalue of $A$.\n",
    "\n",
    "_Hint: Consider $\\mathbf{u} = (v, \\sqrt{1-v^2})^\\top$, $-1\\le v \\le 1$, and solve the variational characterisation problem for $\\lambda_{\\max}(A)$ with respect to $v$._"
   ]
  },
  {
   "cell_type": "markdown",
   "metadata": {},
   "source": [
    "## Task (c): VC-dimension of the halfspaces classifier (lower bound)\n",
    "Consider the halfspaces prediction rule in the homogeneous form,\n",
    "$$\n",
    "h_{\\boldsymbol\\theta}(\\mathbf{x}) = \\mathrm{sign}(\\langle \\boldsymbol\\theta, \\mathbf{x}\\rangle) \\in \\mathcal{H}_n^{hs},\n",
    "$$\n",
    "where $\\mathbf{x} = \\begin{bmatrix}1\\\\ \\mathbf{\\hat x}\\end{bmatrix}$, $\\mathbf{\\hat x} \\in \\mathbb{R}^n$, $\\boldsymbol\\theta \\in \\mathbb{R}^{n+1}.$\n",
    "Consider a dataset \n",
    "$$\n",
    "\\mathbf{X} = \\begin{bmatrix}\\mathbf{x}_1 & \\cdots & \\mathbf{x}_{n+1} \\end{bmatrix} = \n",
    "\\begin{bmatrix}\n",
    "1 & 1 & 1 & \\cdots & 1 & 1 \\\\\n",
    "0 & 1 & 0 & \\cdots & 0 & 0 \\\\\n",
    "0 & 0 & 1 & \\cdots & 0 & 0 \\\\\n",
    "\\vdots & & & \\ddots & & \\vdots \\\\\n",
    "0 & 0 & 0 & \\cdots & 1 & 0 \\\\\n",
    "0 & 0 & 0 & \\cdots & 0 & 1\n",
    "\\end{bmatrix} \\in \\mathbb{R}^{(n+1) \\times (n+1)}\n",
    "$$\n",
    "- Show that $\\mathbf{X}$ is shattered by $\\mathcal{H}_n^{hs}$, that is, for any $y_1,\\ldots,y_{n+1} \\in \\{-1,1\\}$ you can find $\\boldsymbol\\theta$ such that $h_{\\boldsymbol\\theta}(\\mathbf{x}_i) = y_i$, $i=1,\\ldots,n+1$.\n",
    "\n",
    "_Hint: you can solve the system of linear equations $\\langle \\boldsymbol\\theta, \\mathbf{x}_i\\rangle = y_i$ exactly, so the $\\mathrm{sign}()$ function is not needed in this case._\n",
    "\n",
    "**Remark:** therefore, $\\text{VC-dim}(\\mathcal{H}_n^{hs}) \\ge n+1$. In fact, one can prove that $\\text{VC-dim}(\\mathcal{H}_n^{hs}) = n+1$."
   ]
  },
  {
   "cell_type": "markdown",
   "metadata": {},
   "source": [
    "---"
   ]
  },
  {
   "cell_type": "markdown",
   "metadata": {},
   "source": [
    "## Task 1: PCA computation in Python\n",
    "The following code generates a dataset $X\\in\\mathbb{R}^{2 \\times m}$ of $m=20$ points where each $\\mathbf{x}_i$ is in the form $(x,x+y)^T$, where $x$ is chosen uniformly at random from $[-1,1]$, and $y$ is sampled from the normal distribution with mean zero and variance $0.01$."
   ]
  },
  {
   "cell_type": "code",
   "execution_count": null,
   "metadata": {},
   "outputs": [],
   "source": [
    "import numpy as np\n",
    "from matplotlib import pyplot as plt\n",
    "X1 = np.random.uniform(low=-1, high=1, size=20)\n",
    "X2 = X1 + np.random.normal(scale=0.1, size=X1.size)\n",
    "X = np.vstack((X1,X2))\n",
    "plt.plot(X[0], X[1], '.')\n",
    "plt.show()"
   ]
  },
  {
   "cell_type": "markdown",
   "metadata": {},
   "source": [
    "- Compute the PCA matrix $A = \\frac{1}{m}\\sum_{i=1}^{m} \\mathbf{x}_i \\mathbf{x}_i^\\top$. _Hint: you can avoid using a `for` loop._\n",
    "- Read about [`numpy.linalg.eigh`](https://numpy.org/doc/stable/reference/generated/numpy.linalg.eigh.html) and compute the eigenvector $\\mathbf{u}$ corresponding to the largest eigenvalue of $A$. Does it look close to the $\\mathbf{u}$ calculated in Task (b)?"
   ]
  },
  {
   "cell_type": "code",
   "execution_count": null,
   "metadata": {},
   "outputs": [],
   "source": []
  },
  {
   "cell_type": "markdown",
   "metadata": {},
   "source": [
    "## Task 2: compression and recovery of data from PCA\n",
    "- Write a Python code to compress $\\mathbf{x}_i$ into $z_i = \\mathbf{u}^T \\mathbf{x}_i \\in \\mathbb{R}$, $i=1,\\ldots,m$. _(Again, you can use numpy facilities instead of a for loop)_\n",
    "- Write a Python code to reconstruct the approximate data $\\mathbf{\\tilde x}_i = \\mathbf{u} z_i$.\n",
    "- Plot both the original data $X = [\\mathbf{x}_1,\\ldots,\\mathbf{x}_m]$ (you can copy the code from Task 1) and the reconstructed data $\\tilde X = [\\mathbf{\\tilde x}_1,\\ldots,\\mathbf{\\tilde x}_m]$ **on the same plot**. How accurate is the reconstruction?"
   ]
  },
  {
   "cell_type": "code",
   "execution_count": null,
   "metadata": {},
   "outputs": [],
   "source": []
  }
 ],
 "metadata": {
  "kernelspec": {
   "display_name": "Python 3",
   "language": "python",
   "name": "python3"
  },
  "language_info": {
   "codemirror_mode": {
    "name": "ipython",
    "version": 3
   },
   "file_extension": ".py",
   "mimetype": "text/x-python",
   "name": "python",
   "nbconvert_exporter": "python",
   "pygments_lexer": "ipython3",
   "version": "3.10.13"
  }
 },
 "nbformat": 4,
 "nbformat_minor": 2
}
