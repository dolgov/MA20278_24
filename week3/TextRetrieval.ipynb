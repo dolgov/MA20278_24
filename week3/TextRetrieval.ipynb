{
 "cells": [
  {
   "cell_type": "code",
   "execution_count": 1,
   "id": "4882c2cb",
   "metadata": {},
   "outputs": [],
   "source": [
    "import numpy as np\n",
    "\n",
    "# A toy snippet from Shakespeare\n",
    "docs = ['Anthony and Cleopatra Brutus Caesar romans worser',\n",
    "        'Caesar Anthony Brutus Calpurnia romans',\n",
    "        'The worser',\n",
    "        'Brutus Caesar romans worser',\n",
    "        'Caesar worser',\n",
    "        'Anthony Caesar'\n",
    "       ]"
   ]
  },
  {
   "cell_type": "code",
   "execution_count": null,
   "id": "f9c878bc-3c3f-4abe-a608-a92f7d0619a2",
   "metadata": {},
   "outputs": [],
   "source": []
  }
 ],
 "metadata": {
  "kernelspec": {
   "display_name": "Python 3 (ipykernel)",
   "language": "python",
   "name": "python3"
  },
  "language_info": {
   "codemirror_mode": {
    "name": "ipython",
    "version": 3
   },
   "file_extension": ".py",
   "mimetype": "text/x-python",
   "name": "python",
   "nbconvert_exporter": "python",
   "pygments_lexer": "ipython3",
   "version": "3.10.13"
  }
 },
 "nbformat": 4,
 "nbformat_minor": 5
}
