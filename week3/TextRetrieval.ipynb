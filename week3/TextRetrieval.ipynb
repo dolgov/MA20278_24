{
 "cells": [
  {
   "cell_type": "code",
   "execution_count": 1,
   "id": "4882c2cb",
   "metadata": {},
   "outputs": [],
   "source": [
    "import numpy as np\n",
    "\n",
    "# A toy snippet from Shakespeare\n",
    "docs = ['Anthony and Cleopatra Brutus Caesar romans worser',\n",
    "        'Caesar Anthony Brutus Calpurnia romans',\n",
    "        'The worser',\n",
    "        'Brutus Caesar romans worser',\n",
    "        'Caesar worser',\n",
    "        'Anthony Caesar'\n",
    "       ]"
   ]
  },
  {
   "cell_type": "code",
   "execution_count": 2,
   "id": "f9c878bc-3c3f-4abe-a608-a92f7d0619a2",
   "metadata": {},
   "outputs": [
    {
     "data": {
      "text/plain": [
       "array([[1, 1, 1, 0, 1, 1, 1],\n",
       "       [1, 1, 1, 1, 0, 1, 0],\n",
       "       [0, 0, 0, 0, 0, 0, 1],\n",
       "       [0, 1, 1, 0, 0, 1, 1],\n",
       "       [0, 0, 1, 0, 0, 0, 1],\n",
       "       [1, 0, 1, 0, 0, 0, 0]])"
      ]
     },
     "execution_count": 2,
     "metadata": {},
     "output_type": "execute_result"
    }
   ],
   "source": [
    "from sklearn.feature_extraction.text import CountVectorizer\n",
    "cv = CountVectorizer(binary=True, stop_words='english')\n",
    "B = cv.fit_transform(docs).toarray()\n",
    "cv.get_feature_names_out()\n",
    "B"
   ]
  },
  {
   "cell_type": "code",
   "execution_count": 3,
   "id": "bfe8361b",
   "metadata": {},
   "outputs": [
    {
     "data": {
      "text/plain": [
       "array([1, 0, 0, 1, 0, 0])"
      ]
     },
     "execution_count": 3,
     "metadata": {},
     "output_type": "execute_result"
    }
   ],
   "source": [
    "B[:,2] & B[:,5] & (~B[:,3])  # Boolean retrieval"
   ]
  },
  {
   "cell_type": "code",
   "execution_count": 4,
   "id": "06328c30",
   "metadata": {},
   "outputs": [
    {
     "data": {
      "text/plain": [
       "array([[0.        , 0.        , 0.59485466, 0.        , 0.        ,\n",
       "        0.80383327, 0.        ]])"
      ]
     },
     "execution_count": 4,
     "metadata": {},
     "output_type": "execute_result"
    }
   ],
   "source": [
    "from sklearn.feature_extraction.text import TfidfVectorizer\n",
    "tv = TfidfVectorizer(stop_words='english')\n",
    "F = tv.fit_transform(docs).toarray()\n",
    "q = tv.transform(['romans Caesar']).toarray()\n",
    "q"
   ]
  },
  {
   "cell_type": "code",
   "execution_count": 5,
   "id": "1e54fe7f",
   "metadata": {},
   "outputs": [
    {
     "data": {
      "text/plain": [
       "array([[0., 0., 0., ..., 0., 0., 0.]])"
      ]
     },
     "execution_count": 5,
     "metadata": {},
     "output_type": "execute_result"
    }
   ],
   "source": [
    "file = np.load('BathPages.npz') # Load from numpy compressed file\n",
    "titles = file['titles']\n",
    "docs = file['docs']\n",
    "\n",
    "tv = TfidfVectorizer(stop_words='english')\n",
    "F = tv.fit_transform(docs).toarray()\n",
    "F.shape\n",
    "\n",
    "q = tv.transform(['Car park']).toarray()  # Transform a new query to the same TF-IDF model\n",
    "q"
   ]
  },
  {
   "cell_type": "code",
   "execution_count": 6,
   "id": "f2b98918",
   "metadata": {
    "scrolled": false
   },
   "outputs": [
    {
     "name": "stdout",
     "output_type": "stream",
     "text": [
      "East Car Park Overflow\n",
      "Skip to main content\n",
      "\n",
      "  * Courses\n",
      "  * Research\n",
      "  * Enterprise\n",
      "  * Sport\n",
      "  * Departments\n",
      "  * About\n",
      "\n",
      "  * _From_ Security \n",
      "\n",
      "# East Car Park Overflow\n",
      "\n",
      "The East Car Park Overflow has 231 car parking spaces for permit holders on\n",
      "the Claverton Down campus. You can access it from the rear of the East Car\n",
      "Park.\n",
      "\n",
      "  * Car park\n",
      "  * View more locations in Security \n",
      "\n",
      "# Address\n",
      "\n",
      "East Car Park Overflow University of Bath Claverton Down Bath BA2 7AY United\n",
      "Kingdom\n",
      "\n",
      "Find your way here using Google Maps\n",
      "\n",
      "# GPS coordinates\n",
      "\n",
      "Latitude 51.37699  \n",
      "Longitude -2.32069\n",
      "\n",
      "# Map for this location\n",
      "\n",
      "  \n",
      "View Larger Map\n",
      "\n",
      "# Additional information\n",
      "\n",
      "This car park is for permit holders only. Occasional user permit holders can\n",
      "validate their permit using JustPark. There is public Pay and Parl parking\n",
      "nearby in the East Car Park.\n",
      "\n",
      "## Capacity\n",
      "\n",
      "There are 231 car spaces for permit holders only.\n",
      "\n",
      "# Accessibility\n",
      "\n",
      "There are no accessible car parking spaces available in the East Car Park\n",
      "Overflow, but there are 10 accessible spaces in the East Car Park nearby.\n",
      "\n",
      "# Opening times\n",
      "\n",
      "  * **Monday** Open 24 hours\n",
      "  * **Tuesday** Open 24 hours\n",
      "  * **Wednesday** Open 24 hours\n",
      "  * **Thursday** Open 24 hours\n",
      "  * **Friday** Open 24 hours\n",
      "  * **Saturday** Open 24 hours\n",
      "  * **Sunday** Open 24 hours\n",
      "\n",
      "Permits must be displayed from Monday to Sunday. Parking is free on public\n",
      "holidays.\n",
      "\n",
      "# Enquiries\n",
      "\n",
      "Parking Services security-car-parks@bath.ac.uk\n",
      "\n",
      "(C) University of Bath 2023\n",
      "\n",
      "  * Disclaimer\n",
      "  * Freedom of information\n",
      "  * Modern slavery statement\n",
      "  * Privacy and cookie policy\n",
      "  * Staying COVID-19 Secure\n",
      "  * Transparency information\n",
      "  * Website accessibility statement\n",
      "\n",
      "\n"
     ]
    }
   ],
   "source": [
    "# Cosine similarity scoring - exploiting ||q|| = ||f_i|| = 1\n",
    "imax = np.argmax(F @ q.T)\n",
    "print(titles[imax])\n",
    "print(docs[imax])"
   ]
  },
  {
   "cell_type": "code",
   "execution_count": null,
   "id": "2d3bde27",
   "metadata": {},
   "outputs": [],
   "source": []
  }
 ],
 "metadata": {
  "kernelspec": {
   "display_name": "Python 3 (ipykernel)",
   "language": "python",
   "name": "python3"
  },
  "language_info": {
   "codemirror_mode": {
    "name": "ipython",
    "version": 3
   },
   "file_extension": ".py",
   "mimetype": "text/x-python",
   "name": "python",
   "nbconvert_exporter": "python",
   "pygments_lexer": "ipython3",
   "version": "3.9.13"
  }
 },
 "nbformat": 4,
 "nbformat_minor": 5
}
