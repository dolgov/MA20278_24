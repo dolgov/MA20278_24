{
 "cells": [
  {
   "cell_type": "markdown",
   "id": "35a7d167-7cfe-4ab1-b11a-161b7eac178d",
   "metadata": {},
   "source": [
    "# Problem Sheet 1\n",
    "- To be completed by **3pm** on **Fri 9th Feb** and uploaded to [Problem Sheet 1 submission point](https://moodle.bath.ac.uk/mod/assign/view.php?id=1289208) on Moodle or handed in to your tutor in your lab.\n",
    "\n",
    "## Linear regression of time series data\n",
    "\n",
    "Recall the Oxford temperature data considered in the lecture. In this lab we will try to approximate the known values of the temperature in time, and to predict the unknown values in the future. As a by-product, we will refresh our _numpy_ skills.\n",
    "\n",
    "Once again, here is the prediction rule we would like to explore:\n",
    "\n",
    "$$\n",
    "h_{\\boldsymbol\\theta} (x) = \\theta_0 + \\theta_1 x + \\cdots + \\theta_d x^d,\n",
    "$$\n",
    "\n",
    "where $x$ is the time value, and $\\boldsymbol\\theta = (\\theta_0,\\ldots,\\theta_d)$ is the vector of coefficients we will optimise. Given a dataset $D = (\\mathbf{X},\\mathbf{y})$ of months $\\mathbf{X}=\\{x_1,\\ldots,x_m\\}$ and temperature values $\\mathbf{y}=\\{y_1,\\ldots,y_m\\}$, we need to minimise the sum-of-squares loss\n",
    "\n",
    "$$\n",
    "L_{D}(\\boldsymbol\\theta) = \\frac{1}{m}\\sum_{i=1}^{m} (h_{\\boldsymbol\\theta} (x_i) - y_i)^2 \\rightarrow \\min_{\\boldsymbol\\theta \\in \\mathbb{R}^{d+1}}.\n",
    "$$"
   ]
  },
  {
   "cell_type": "markdown",
   "id": "51da250e",
   "metadata": {},
   "source": [
    "## Warm-up\n",
    "- Prove that a vector of $m$ predictions $\\mathbf{\\hat y}:=(h_{\\boldsymbol\\theta}(x_1),\\ldots,h_{\\boldsymbol\\theta}(x_m))^\\top$ can be computed as a product of the _Vandermonde_ matrix \n",
    "$$\n",
    "V = \\begin{bmatrix} 1 & x_1 & \\cdots & x_1^d \\\\\n",
    "     1 & x_2 & \\cdots & x_2^d\\\\\n",
    "     \\vdots &  & & \\vdots \\\\\n",
    "     1 & x_m & \\cdots & x_m^d\n",
    "     \\end{bmatrix} \\in \\mathbb{R}^{m \\times (d+1)}\n",
    "$$\n",
    "and the parameter vector $\\boldsymbol\\theta$, $\\mathbf{\\hat y} = V\\boldsymbol\\theta.$\n",
    "\n",
    "#### Solution:\n",
    "Let $\\mathbf{v}_i = (1, x_i , \\cdots , x_i^d)$, the $i$-th row of $V$. Note that $(V\\boldsymbol\\theta)_i = \\mathbf{v}_i \\boldsymbol\\theta = \\theta_0 + x_i \\theta + \\cdots + x_i^d \\theta_d = h_{\\boldsymbol\\theta}(x_i) = \\hat y_i$, for any $i=1,\\ldots,m$.\n"
   ]
  },
  {
   "cell_type": "markdown",
   "id": "4e41b4b4",
   "metadata": {},
   "source": [
    "## Task (a): sum-of-squares minimiser\n",
    "\n",
    "- **Prove** that any solution of Equation (1.2) in the lecture notes satisfies the first-order optimality conditions (Equation (1.1))\n",
    "$$\n",
    "\\frac{\\partial L_D(\\boldsymbol\\theta^*)}{\\partial \\theta_0} = \\cdots = \\frac{\\partial L_D(\\boldsymbol\\theta^*)}{\\partial \\theta_d} = 0\n",
    "$$\n",
    "in general.\n",
    "Recall that\n",
    "Equation (1.2) is a system of linear equations\n",
    "$$\n",
    "A \\boldsymbol\\theta^* = \\mathbf{b},\n",
    "$$\n",
    "where\n",
    "$$\n",
    "A = V^\\top V, \\qquad \\mathbf{b} = V^\\top \\mathbf{y}.\n",
    "$$\n",
    "\n",
    "\n",
    "_Hint: use Warm-up and some further elementary calculus which you can write on a paper and hand it in to your tutor, or upload its scan on Moodle. Note that you don't need to derive the solution_ $\\boldsymbol\\theta^*$ _explicitly._"
   ]
  },
  {
   "cell_type": "markdown",
   "id": "e2f4a632",
   "metadata": {},
   "source": [
    "---"
   ]
  },
  {
   "cell_type": "markdown",
   "id": "31dfe8e4",
   "metadata": {},
   "source": [
    "## Task 0: fetching this problem sheet on the Noteable Jupyter server\n",
    "\n",
    "- **Click** [Noteable Jupyter server Link 1](https://moodle.bath.ac.uk/mod/lti/view.php?id=1244982) on Moodle, and start or reconnect to a \"Standard Notebook (Python 3)\" server. When it's up and running, **click** [Noteable Jupyter server Link 2](https://moodle.bath.ac.uk/mod/url/view.php?id=1245035). This will create a folder `MA20278_24` where all Python-related materials will be provided.\n",
    "\n",
    "```\n",
    "Don't forget to click Link 2 regularly (at least once a week) during the semester to fetch the latest materials.\n",
    "```\n"
   ]
  },
  {
   "cell_type": "markdown",
   "id": "097efae5",
   "metadata": {},
   "source": [
    "- Change to the sub-folder `week1` in the folder `MA20278_24`\n",
    "\n",
    "Here you will find a Jupyter notebook file `ProblemSheet1.ipynb`, which is a copy of this problem sheet, and a data file `OxfordTemp.txt`, containing monthly average temperatures in Oxford starting from January 2022."
   ]
  },
  {
   "cell_type": "markdown",
   "id": "8a1c4584",
   "metadata": {},
   "source": [
    "- It's safe to edit `ProblemSheet1.ipynb` here, since further clicks on Link 2 will **not** overwrite it once you make (and save!) any changes.\n"
   ]
  },
  {
   "cell_type": "markdown",
   "id": "ca172105-eec5-4b86-be0c-df62a1e14a94",
   "metadata": {},
   "source": [
    "## Task 1: read and split the data\n",
    "\n",
    "- The file `OxfordTemp.txt` contains the dataset $\\mathbf{D} = \\{(x_1,y_1),\\ldots,(x_m,y_m)\\}$ in the form of two columns separated by a tab. **Read about** the _numpy_ **function** `np.loadtxt` (https://numpy.org/doc/stable/reference/generated/numpy.loadtxt.html) which can be used to load simple text data as a _numpy_ array. \n",
    "- **Write a Python code** that loads the file `OxfordTemp.txt` into a _numpy_ array, and extracts the first column as a _numpy_ array $\\mathbf{x}\\in\\mathbb{R}^m$, and the second column as an array $\\mathbf{y}\\in\\mathbb{R}^m$. You can use the cell below. "
   ]
  },
  {
   "cell_type": "code",
   "execution_count": null,
   "id": "fbc489b3-d86f-4ac5-bb9b-b843b5c12de0",
   "metadata": {},
   "outputs": [],
   "source": [
    "import numpy as np\n"
   ]
  },
  {
   "cell_type": "markdown",
   "id": "9b052418-98b4-4184-bc53-ab6af2e35b10",
   "metadata": {},
   "source": [
    "## Warm-up: polynomial features\n",
    "\n",
    "- **Write** a Python **function** ``features(x,d)`` that takes as input a _numpy_ array $\\mathbf{x}\\in\\mathbb{R}^m$ and an integer number $d \\ge 0$, and constructs and returns the Vandermonde matrix $V\\in \\mathbb{R}^{m \\times (d+1)}$ as a _numpy_ array."
   ]
  },
  {
   "cell_type": "code",
   "execution_count": 2,
   "id": "66feb849-5561-4f55-b6cf-5c4e5658bce6",
   "metadata": {},
   "outputs": [],
   "source": [
    "def features(x,d):\n",
    "    powers = np.arange(d+1)               # [0,1,2,...,d]\n",
    "    powers = np.reshape(powers, (1, -1))  # Make it explicitly a row vector\n",
    "    x = np.reshape(x, (-1, 1))            # Make it explicitly a column vector\n",
    "    return x**powers                      # Python automatically broadcasts the vectors to each others' shapes \n",
    "                                          # and takes the power between the resulting matrices elementwise"
   ]
  },
  {
   "cell_type": "markdown",
   "id": "c4025559-60ce-4eb5-9b0a-34def5a90dcf",
   "metadata": {},
   "source": [
    "## Task 2: optimisation of the parameters\n",
    "- **Write** a Python **function** `optimise_loss(V,y)` that takes as **input** the matrix $V$ constructed in the previous task and the vector $\\mathbf{y}$ loaded from the file. This function should compute the matrix $A = V^\\top V$, the vector $\\mathbf{b} = V^\\top \\mathbf{y}$, solve the linear equations $A \\boldsymbol\\theta^* = \\mathbf{b}$, and **return** the vector $\\boldsymbol\\theta^*$.\n",
    "\n",
    "_Hint: you can recap on numpy functions `@` (matrix multiplication) and `np.linalg.solve`_"
   ]
  },
  {
   "cell_type": "code",
   "execution_count": null,
   "id": "7c72d97c-4cac-442f-8b0c-a0b8dd35c68d",
   "metadata": {},
   "outputs": [],
   "source": []
  },
  {
   "cell_type": "markdown",
   "id": "a8fdad29-68cc-44e3-bb23-c6fa48abac80",
   "metadata": {},
   "source": [
    "## Task 3: results\n",
    "- **Write** a Python **code** to compute the optimised parameter $\\boldsymbol\\theta^*$ using the functions from the previous tasks and the training arrays $\\mathbf{x},\\mathbf{y}$.\n",
    "- **Compute** the prediction $h_{\\boldsymbol\\theta^*}(\\hat x)$ for $\\hat x$ ranging from $1$ to $17$ (inclusive). \n",
    "\n",
    "_Hint: `np.arange` can produce an appropriate array_ $\\mathbf{\\hat x}$\n",
    "\n",
    "- **Plot** both the training data $\\mathbf{y}$ as a function of $\\mathbf{x}$, and the prediction $\\mathbf{\\hat y} = h_{\\boldsymbol\\theta^*}(\\mathbf{\\hat x})$ as a function of $\\mathbf{\\hat x}$ on the same graph.\n",
    "\n",
    "_Hint: recap on `matplotlib.pyplot.plot`_\n",
    "\n",
    "- **Vary** $d$ from 1 to 10 and rerun this experiment. Which $d$ gives the most accurate prediction of the known values of the temperature? Which $d$ gives the most \"reasonable\" prediction for the unknown value at $x=17$?"
   ]
  },
  {
   "cell_type": "code",
   "execution_count": null,
   "id": "dda05aca-2c3e-46a5-8248-0db31cbc3e8d",
   "metadata": {},
   "outputs": [],
   "source": []
  }
 ],
 "metadata": {
  "kernelspec": {
   "display_name": "Python 3 (ipykernel)",
   "language": "python",
   "name": "python3"
  },
  "language_info": {
   "codemirror_mode": {
    "name": "ipython",
    "version": 3
   },
   "file_extension": ".py",
   "mimetype": "text/x-python",
   "name": "python",
   "nbconvert_exporter": "python",
   "pygments_lexer": "ipython3",
   "version": "3.10.13"
  }
 },
 "nbformat": 4,
 "nbformat_minor": 5
}
