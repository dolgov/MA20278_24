{
 "cells": [
  {
   "cell_type": "markdown",
   "id": "fc5921b0",
   "metadata": {},
   "source": [
    "# Problem Sheet 7\n",
    "\n",
    "- To be completed by **4pm** on **Fri 22nd Mar** and uploaded to [Problem Sheet 7 submission point](https://moodle.bath.ac.uk/mod/assign/view.php?id=1211639) on Moodle.\n",
    "\n",
    "## Gradient Descent (GD) and $\\beta$-smoothness of functions"
   ]
  },
  {
   "cell_type": "markdown",
   "id": "7b173feb",
   "metadata": {},
   "source": [
    "## Task (a) (Warm-up): upper bound of the next loss in GD method\n",
    "\n",
    "- Prove Lemma 4.19 in lecture notes: if $L$ is $\\beta$-smooth on $\\mathbb{R}^n$, $\\boldsymbol\\theta_k$ is the current iterate in GD, and $t_k>0$ is the current learning rate, then\n",
    "$$\n",
    "L(\\boldsymbol\\theta_{k+1}) \\le L(\\boldsymbol\\theta_k) - t_k \\left(1-t_k \\frac{\\beta}{2} \\right) \\|\\nabla L(\\boldsymbol\\theta_k)\\|_2^2.\n",
    "$$"
   ]
  },
  {
   "cell_type": "markdown",
   "id": "70da20ba",
   "metadata": {},
   "source": [
    "## Solution:\n",
    "By Lemma 4.18,\n",
    "\\begin{align*}\n",
    "L(\\boldsymbol\\eta) & \\le L(\\boldsymbol\\theta_k) + \\langle \\nabla L(\\boldsymbol\\theta_k), \\boldsymbol\\eta - \\boldsymbol\\theta_k \\rangle + \\frac{\\beta}{2} \\|\\boldsymbol\\eta - \\boldsymbol\\theta_k\\|_2^2 & (\\boldsymbol\\eta = \\boldsymbol\\theta_k - t_k \\nabla L(\\boldsymbol\\theta_k))\\\\\n",
    "& = L(\\boldsymbol\\theta_k) + \\langle \\nabla L(\\boldsymbol\\theta_k), -t_k \\nabla L(\\boldsymbol\\theta_k) \\rangle + \\frac{\\beta}{2} t_k^2 \\|\\nabla L(\\boldsymbol\\theta_k)\\|_2^2 \\\\\n",
    "& = L(\\boldsymbol\\theta_k) - t_k \\|\\nabla L(\\boldsymbol\\theta_k)\\|_2^2 + t_k^2 \\frac{\\beta}{2} \\|\\nabla L(\\boldsymbol\\theta_k)\\|_2^2 \\\\\n",
    "& = L(\\boldsymbol\\theta_k) - t_k (1 - t_k \\frac{\\beta}{2})\\|\\nabla L(\\boldsymbol\\theta_k)\\|_2^2.\n",
    "\\end{align*}"
   ]
  },
  {
   "cell_type": "markdown",
   "id": "c4aab202",
   "metadata": {},
   "source": [
    "## Task (b): optimal constant learning rate in GD method \n",
    "\n",
    "- Under the assumptions of Task (a), calculate the optimal constant learning rate $t_k = \\hat t > 0$ which minimises the **upper bound** of $L(\\boldsymbol\\theta_{k+1})$ derived above (for the fixed $\\boldsymbol\\theta_k$)."
   ]
  },
  {
   "cell_type": "markdown",
   "id": "493de078",
   "metadata": {},
   "source": [
    "## Solution:\n",
    "Differentiating the upper bound of $L(\\boldsymbol\\theta_{k+1})$ as a function of $\\hat t$, we obtain\n",
    "$$\n",
    "\\frac{d}{d\\hat t} \\left(L(\\boldsymbol\\theta_k) - \\hat t (1 - \\hat t \\frac{\\beta}{2})\\|\\nabla L(\\boldsymbol\\theta_k)\\|_2^2\\right) = (-1 + \\hat t \\beta) \\|\\nabla L(\\boldsymbol\\theta_k)\\|_2^2,\n",
    "$$\n",
    "which should be 0 at the optimal $\\hat t$, which makes $(-1 + \\hat t \\beta)=0$ $\\Rightarrow$ $\\hat t = 1/\\beta$."
   ]
  },
  {
   "cell_type": "markdown",
   "id": "9c7c1c1c",
   "metadata": {},
   "source": [
    "## Task (c) (Warm-up): $\\beta$-smoothness\n",
    "Consider the disk domain $\\Omega_r = \\{\\boldsymbol\\theta = (\\theta_1,\\theta_2): \\|\\boldsymbol\\theta\\|_2 \\le r\\} \\subset \\mathbb{R}^2$ for some $r>0$, and the function $L(\\boldsymbol\\theta) = \\theta_1^2 + 3 \\theta_2^2 + \\theta_2^4.$ \n",
    "- Find whether $L$ is $\\beta$-smooth on $\\Omega_r$, and if yes, suggest a value of $\\beta>0$ as a function of $r$."
   ]
  },
  {
   "cell_type": "markdown",
   "id": "5721a41f",
   "metadata": {},
   "source": [
    "## Solution:\n",
    "Firstly,\n",
    "$$\n",
    "\\nabla L(\\boldsymbol\\theta) = \\begin{bmatrix}2 \\theta_1, & 6 \\theta_2 + 4 \\theta_2^3\\end{bmatrix}^\\top,\n",
    "$$\n",
    "and\n",
    "$$\n",
    "\\nabla L(\\boldsymbol\\eta) - \\nabla L(\\boldsymbol\\theta) = \\begin{bmatrix}2(\\eta_1 - \\theta_1), & 6 (\\eta_2 - \\theta_2) + 4 (\\eta_2^3 - \\theta_2^3) \\end{bmatrix}.\n",
    "$$\n",
    "Note that we can factorise $\\eta_2^3 - \\theta_2^3 = (\\eta_2 - \\theta_2)(\\eta_2^2 + \\eta_2 \\theta_2 + \\theta_2^2)$, whereas since $\\|\\boldsymbol\\theta\\|_2 \\le r$, there holds $|\\eta_2\\| \\le r$, $|\\theta_2| \\le r$, and $\\eta_2^2 + \\eta_2 \\theta_2 + \\theta_2^2 \\le 3 r^2.$\n",
    "Hence\n",
    "\\begin{align*}\n",
    "\\|\\nabla L(\\boldsymbol\\eta) - \\nabla L(\\boldsymbol\\theta)\\|_2^2 & = 4 (\\eta_1 - \\theta_1)^2 + 36 (\\eta_2 - \\theta_2)^2 + 48 (\\eta_2 - \\theta_2)^2 (\\eta_2^2 + \\eta_2 \\theta_2 + \\theta_2^2) + 16 (\\eta_2 - \\theta_2)^2 (\\eta_2^2 + \\eta_2 \\theta_2 + \\theta_2^2)^2 \\\\\n",
    "& \\le 4 (\\eta_1 - \\theta_1)^2 + 36 (\\eta_2 - \\theta_2)^2 + 48 (\\eta_2 - \\theta_2)^2 \\cdot 3 r^2 + 16 (\\eta_2 - \\theta_2)^2 \\cdot 9 r^4 \\\\\n",
    "& = 4 (\\eta_1 - \\theta_1)^2 + (36 + 144r^2 + 144 r^4) (\\eta_2 - \\theta_2)^2 \\\\\n",
    "& \\le \\underbrace{(36 + 144r^2 + 144 r^4)}_{\\beta^2} \\underbrace{((\\eta_1 - \\theta_1)^2 + (\\eta_2 - \\theta_2)^2)}_{\\|\\boldsymbol\\eta - \\boldsymbol\\theta\\|_2^2}\n",
    "\\end{align*}"
   ]
  },
  {
   "cell_type": "markdown",
   "id": "126ecedf",
   "metadata": {},
   "source": [
    "## Task (d): calculation of the optimal constant learning rate\n",
    "Consider $\\boldsymbol\\theta = (\\theta_1,\\theta_2) \\in \\mathbb{R}^2$ and the function $L(\\boldsymbol\\theta) = \\theta_1^2 + 3 \\theta_2^2 + \\theta_2.$ \n",
    "- Calculate the optimal constant learning rate $\\hat t$ for GD method.\n",
    "\n",
    "_Hint: use Task (b) and_ $\\beta$-_smoothness of_ $L$."
   ]
  },
  {
   "cell_type": "markdown",
   "id": "969f5a40",
   "metadata": {},
   "source": [
    "## Solution: \n",
    "\n",
    "$$\n",
    "\\nabla L(\\boldsymbol\\theta) = \\begin{bmatrix}2 \\theta_1, & 6 \\theta_2 + 1\\end{bmatrix}^\\top.\n",
    "$$\n",
    "Now to identify $\\beta$ we need to upper-bound\n",
    "$$\n",
    "\\|\\nabla L(\\boldsymbol\\eta) - \\nabla L(\\boldsymbol\\theta)\\|_2^2 = \\|(2 (\\eta_1 - \\theta_1), 6(\\eta_2 - \\theta_2))\\|_2^2  = 2^2 (\\eta_1-\\theta_1)^2 + 6^2 (\\eta_2 - \\theta_2)^2 \\le 36((\\eta_1-\\theta_1)^2 + (\\eta_2 - \\theta_2)^2) = 36 \\|\\boldsymbol\\eta - \\boldsymbol\\theta\\|_2^2.\n",
    "$$\n",
    "Therefore, $\\beta=6$ and $\\hat t=1/6$."
   ]
  },
  {
   "cell_type": "markdown",
   "id": "e7696aef",
   "metadata": {},
   "source": [
    "---"
   ]
  },
  {
   "cell_type": "markdown",
   "id": "415da074",
   "metadata": {},
   "source": [
    "## Task 1: Loss gradient for perturbed polynomial data regression\n",
    "Recall Problem Sheet 2 code that creates a perturbed cubic polynomial data $(\\mathbf{x},\\mathbf{y})=$(`X`,`Y`) and the Vandermonde feature matrix $V$:"
   ]
  },
  {
   "cell_type": "code",
   "execution_count": 1,
   "id": "55a2b3b1",
   "metadata": {},
   "outputs": [],
   "source": [
    "import numpy as np\n",
    "from matplotlib import pyplot as plt    \n",
    "\n",
    "def TrueSample():\n",
    "    x = np.random.uniform(-1,1)\n",
    "    y = x - x**3 + 0.1*np.random.randn()\n",
    "    return x,y\n",
    "\n",
    "def features(x,n):\n",
    "    powers = np.arange(n+1)               # [0,1,2,...,n]\n",
    "    powers = np.reshape(powers, (1, -1))  # Make it explicitly a row vector\n",
    "    x = np.reshape(x, (-1, 1))            # Make it explicitly a column vector\n",
    "    return x**powers                      # Python automatically broadcasts the vectors to each others' shapes \n",
    "                                          # and takes the power between the resulting matrices elementwise\n",
    "\n",
    "Nsamples = 30\n",
    "Y = np.zeros(Nsamples)\n",
    "X = np.zeros(Nsamples)\n",
    "for i in range(Y.size):\n",
    "    X[i],Y[i] = TrueSample()\n",
    "\n",
    "n = 3\n",
    "V = features(X,n)"
   ]
  },
  {
   "cell_type": "markdown",
   "id": "4abc9def",
   "metadata": {},
   "source": [
    "- Write Python functions `L(theta,V,Y)` and `gL(theta,V,Y)` with arguments `theta`$=\\boldsymbol\\theta\\in \\mathbb{R}^{n+1}$, `V`$=V\\in\\mathbb{R}^{m \\times (n+1)}$ and `Y`$=\\mathbf{y}\\in\\mathbb{R}^{m}$, which compute and return the mean squared error loss function \n",
    "$$\n",
    "L(\\boldsymbol\\theta) = \\frac{1}{m}\\left\\|V\\boldsymbol\\theta - \\mathbf{y}\\right\\|_2^2\n",
    "$$ \n",
    "and its gradient $\\nabla L(\\boldsymbol\\theta) = A\\boldsymbol\\theta - \\mathbf{b}$, respectively, where $A\\in\\mathbb{R}^{(n+1) \\times (n+1)}$ and $\\mathbf{b} \\in \\mathbb{R}^{n+1}$ are the matrix and the vector you should identify."
   ]
  },
  {
   "cell_type": "markdown",
   "id": "c0cebe0c",
   "metadata": {},
   "source": [
    "## Solution:"
   ]
  },
  {
   "cell_type": "code",
   "execution_count": 2,
   "id": "4b571c7e",
   "metadata": {},
   "outputs": [],
   "source": [
    "def L(theta, V, Y):\n",
    "    return np.linalg.norm(V @ theta - Y)**2 / Y.size\n",
    "\n",
    "def gL(theta, V, Y):\n",
    "    m = Y.size\n",
    "    A = (V.T @ V) * (2/m)\n",
    "    b = (V.T @ Y) * (2/m)\n",
    "    return A @ theta - b"
   ]
  },
  {
   "cell_type": "markdown",
   "id": "4b368278",
   "metadata": {},
   "source": [
    "## Task 2: GD for perturbed polynomial data regression\n",
    "- Find $\\boldsymbol\\theta^* = \\arg\\min L(\\boldsymbol\\theta)$ for $L(\\boldsymbol\\theta)$ defined in Task 1 using the `optimise_loss` function from Problem Sheet 2.\n",
    "- Copy over the gradient descent function `gd` (with `fminbound` line search) implemented in `GD.ipynb` in week6.\n",
    "- For each `eps` $=\\varepsilon\\in\\{10^{-1}, 10^{-2}, 10^{-3}, 10^{-4}, 10^{-5}, 10^{-6}\\}$, \n",
    "apply `gd` with the chosen `eps` and  `max_iters`$=10^4$ to compute $\\boldsymbol\\theta_k \\approx \\boldsymbol\\theta^* = \\arg\\min L(\\boldsymbol\\theta)$ for $L(\\boldsymbol\\theta)$ defined in Task 1, starting from $\\boldsymbol\\theta_0 = \\mathbf{0}$. For each $\\varepsilon$, record the number of iterations $k_{\\varepsilon}$ at which `gd` converges, and the error $\\|\\boldsymbol\\theta_{k_{\\varepsilon}} - \\boldsymbol\\theta^*\\|_2$.\n",
    "- Plot $\\|\\boldsymbol\\theta_{k_{\\varepsilon}} - \\boldsymbol\\theta^*\\|_2$ in the logarithmic scale as a function of the number of iterations $k_{\\varepsilon}$ at which `gd` converges for each $\\varepsilon$.\n",
    "- What kind of convergence you can infer from this plot?\n",
    "\n",
    "_Hint: you may find the_ [`matplotlib.pyplot.semilogy`](https://matplotlib.org/stable/api/_as_gen/matplotlib.pyplot.semilogy.html) _function useful._"
   ]
  },
  {
   "cell_type": "markdown",
   "id": "d81f8fd6",
   "metadata": {},
   "source": [
    "## Solution:"
   ]
  },
  {
   "cell_type": "code",
   "execution_count": 3,
   "id": "cefb12e4",
   "metadata": {},
   "outputs": [
    {
     "name": "stdout",
     "output_type": "stream",
     "text": [
      "converged in 1 iterations\n",
      "converged in 37 iterations\n",
      "converged in 99 iterations\n",
      "converged in 159 iterations\n",
      "converged in 221 iterations\n",
      "converged in 283 iterations\n"
     ]
    },
    {
     "data": {
      "image/png": "[encoded data removed]",
      "text/plain": [
       "<Figure size 640x480 with 1 Axes>"
      ]
     },
     "metadata": {},
     "output_type": "display_data"
    }
   ],
   "source": [
    "from scipy.optimize import fminbound\n",
    "\n",
    "def optimise_loss(V,y):\n",
    "    return np.linalg.solve(V.T @ V, V.T @ y)\n",
    "\n",
    "def gd(L, gL, theta0, eps=1e-6, max_iters=100):\n",
    "    theta = theta0\n",
    "    Thetas = []\n",
    "    for k in range(max_iters):\n",
    "        gLk = gL(theta)\n",
    "        if (np.linalg.norm(gLk) < eps):\n",
    "            print(f\"converged in {k} iterations\")\n",
    "            break\n",
    "        tk = fminbound(lambda t: L(theta - t * gLk), 0, 100)\n",
    "        theta = theta - tk * gLk\n",
    "        Thetas.append(theta)\n",
    "    return theta, np.array(Thetas), k\n",
    "\n",
    "theta_star = optimise_loss(V,Y)\n",
    "\n",
    "iter_numbers = []\n",
    "errors = []\n",
    "for eps in 10.0**np.arange(-1, -7, -1):\n",
    "    theta, Thetas, k = gd(lambda theta: L(theta,V,Y), lambda theta: gL(theta,V,Y), np.zeros(n+1), eps=eps, max_iters=10**4)\n",
    "    iter_numbers.append(k)\n",
    "    errors.append(np.linalg.norm(theta - theta_star))\n",
    "plt.semilogy(iter_numbers, errors, '.-')\n",
    "plt.xlabel('#Iterations')\n",
    "plt.ylabel('Error')\n",
    "plt.show()"
   ]
  },
  {
   "cell_type": "markdown",
   "id": "da7a0f97",
   "metadata": {},
   "source": [
    "$q$-linear convergence since $\\|\\boldsymbol\\theta_{k} - \\boldsymbol\\theta^*\\|_2$ is proportional to $\\exp(-c\\cdot k)$"
   ]
  }
 ],
 "metadata": {
  "kernelspec": {
   "display_name": "Python 3 (ipykernel)",
   "language": "python",
   "name": "python3"
  },
  "language_info": {
   "codemirror_mode": {
    "name": "ipython",
    "version": 3
   },
   "file_extension": ".py",
   "mimetype": "text/x-python",
   "name": "python",
   "nbconvert_exporter": "python",
   "pygments_lexer": "ipython3",
   "version": "3.10.13"
  }
 },
 "nbformat": 4,
 "nbformat_minor": 5
}
