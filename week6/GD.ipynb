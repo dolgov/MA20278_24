{
 "cells": [
  {
   "cell_type": "code",
   "execution_count": null,
   "metadata": {},
   "outputs": [],
   "source": [
    "import numpy as np\n",
    "\n",
    "# Two-minima function and its gradient\n",
    "def L(theta, alpha=2):\n",
    "    return (theta[0] - theta[1])**2 + (alpha*theta[0]**2 + theta[1]**2 - 1)**2\n",
    "def gL(theta, alpha=2):\n",
    "    return np.array([2*(theta[0]-theta[1]) + 2*(alpha*theta[0]**2 + theta[1]**2 - 1)*2*alpha*theta[0],\n",
    "                    -2*(theta[0]-theta[1]) + 2*(alpha*theta[0]**2 + theta[1]**2 - 1)*2*theta[1]])\n",
    "\n",
    "# Plot this function\n",
    "from matplotlib import pyplot as plt\n",
    "T1, T2 = np.meshgrid(np.linspace(-1,1,33), np.linspace(-1,1,33))\n",
    "plt.contour(T1, T2, L([T1, T2], alpha=2), 20)\n",
    "plt.show()"
   ]
  }
 ],
 "metadata": {
  "kernelspec": {
   "display_name": "Python 3 (ipykernel)",
   "language": "python",
   "name": "python3"
  },
  "language_info": {
   "codemirror_mode": {
    "name": "ipython",
    "version": 3
   },
   "file_extension": ".py",
   "mimetype": "text/x-python",
   "name": "python",
   "nbconvert_exporter": "python",
   "pygments_lexer": "ipython3",
   "version": "3.9.13"
  }
 },
 "nbformat": 4,
 "nbformat_minor": 2
}
